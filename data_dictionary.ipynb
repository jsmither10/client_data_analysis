{
 "cells": [
  {
   "cell_type": "markdown",
   "metadata": {},
   "source": [
    "### Data Dictionary \n",
    "\n",
    "This is the data dictionary to correspond to the *enriched_customer_file.csv*."
   ]
  },
  {
   "cell_type": "markdown",
   "metadata": {},
   "source": [
    "| Field                 | Description                                                        | Source                   |\n",
    "|:----------------------|:-------------------------------------------------------------------|:-------------------------|\n",
    "| name                  | The customer's name. It may contain a middle name.                   | Original customer data file  |\n",
    "| age                   | The customer's age in years.                                         | Original customer data file  |\n",
    "| job                   | Customer's job.                                                    | Original customer data file  |\n",
    "| incomeUSD             | The customers's income in US dollars.                                 | Original customer data file  |\n",
    "| creditScore           | Customer's credit score.                                           | Original customer data file  |\n",
    "| ccNumber              | Customer's credit card number on file.                             | Original customer data file  |\n",
    "| married               | If the customer is married (Y/N).                                  | Original customer data file  |\n",
    "| hasChildren           | If the customer has children (Y/N).                                | Original customer data file  |\n",
    "| height                | Customer's height in CM.                                           | Original customer data file  |\n",
    "| weight                | Customer's weight in KG.                                           | Original customer data file  |\n",
    "| eyeColor              | Customer's eye color.                                              | Original customer data file  |\n",
    "| email                 | Customer's email.                                                  | Original customer data file  |\n",
    "| gender                | The customer's gender, can be \"Male\", \"Female\", or \"Other\".          | Original customer data file  |\n",
    "| hasDegree             | If the customer has a degree (Y/N).                                | Original customer data file  |\n",
    "| bloodType             | Customer's blood type.                                             | Original customer data file  |\n",
    "| username              | Customer's username.                                               | Original customer data file  |\n",
    "| politicalLeaning      | The customer's leaning, with -1 being 100% left leaning, and 1 being 100% right leaning. | Original customer data file  |\n",
    "| religion              | Customer's religion.                                               | Original customer data file  |\n",
    "| doB                   | Customer's date of birth.                                          | Original customer data file  |\n",
    "| gpa                   | Customer's GPA.                                                    | Original customer data file  |\n",
    "| address.streetAddress | The street address of the customer.                                | Original customer data file  |\n",
    "| address.city          | The city of the customer.                                          | Original customer data file  |\n",
    "| address.state         | The state or province of the customer.                             | Original customer data file  |\n",
    "| address.country       | The name of the country the customer is in.                        | Original customer data file  |\n",
    "| address.zip           | The zip code or postal code of the customer.                        | Original customer data file  |\n",
    "| address.geonameId     | The geoname ID of the customer.                                    | Original customer data file  |\n",
    "| address.phoneNumber   | The phone number of the customer.                                  | Original customer data file  |\n",
    "| address.ipAddress     | The IPv4 address of the customer.                                  | Original customer data file  |\n",
    "| address.countryCode   | The ISO 3166-1 alpha-2 country code of the country the location is in. | Original customer data file  |\n",
    "| height_inches         | Customer's height in IN. (Conversion value)                        | Conversion value         |\n",
    "| weight_pounds         | Customer's weight in LB. (Conversion value)                        | Conversion value         |\n",
    "| bmi                   | Customer's body mass index.                                        | BMI API                  |\n",
    "| health                | Customer's health rating in relation to BMI, from Severe Thinness to Obese Class 3 | BMI API |\n",
    "| healthy_bmi_range     | The appropriate BMI range for this customer.                       | BMI API                  |\n",
    "| income level          | Income level from low income, middle income, or high income.       | Income calculation       |\n",
    "| region                | The region of the US where the customer lives.                     | Region calculation       |\n",
    "| state_population      | The population of the state where the customer lives.              | State API                |\n",
    "| state_per_capita_income | The per capita income of the state where the customer lives.      | State File               |\n",
    "\n"
   ]
  }
 ],
 "metadata": {
  "kernelspec": {
   "display_name": "Python 3 (ipykernel)",
   "language": "python",
   "name": "python3"
  },
  "language_info": {
   "codemirror_mode": {
    "name": "ipython",
    "version": 3
   },
   "file_extension": ".py",
   "mimetype": "text/x-python",
   "name": "python",
   "nbconvert_exporter": "python",
   "pygments_lexer": "ipython3",
   "version": "3.11.1"
  }
 },
 "nbformat": 4,
 "nbformat_minor": 2
}
